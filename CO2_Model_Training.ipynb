{
 "cells": [
  {
   "cell_type": "markdown",
   "metadata": {},
   "source": [
    "# CO2 Emission Prediction & Sustainability Tips Model\n",
    "## Train model and create vector store for sustainability recommendations"
   ]
  },
  {
   "cell_type": "code",
   "execution_count": null,
   "metadata": {},
   "outputs": [],
   "source": [
    "# Install required libraries\n",
    "!pip install pandas scikit-learn sentence-transformers chromadb langchain langchain-community joblib"
   ]
  },
  {
   "cell_type": "code",
   "execution_count": null,
   "metadata": {},
   "outputs": [],
   "source": [
    "import pandas as pd\n",
    "import numpy as np\n",
    "from sklearn.ensemble import RandomForestRegressor\n",
    "from sklearn.preprocessing import LabelEncoder\n",
    "from sklearn.model_selection import train_test_split\n",
    "from sklearn.metrics import mean_squared_error, r2_score\n",
    "import joblib\n",
    "import json"
   ]
  },
  {
   "cell_type": "markdown",
   "metadata": {},
   "source": [
    "## Step 1: Load and Prepare Data"
   ]
  },
  {
   "cell_type": "code",
   "execution_count": null,
   "metadata": {},
   "outputs": [],
   "source": [
    "# Upload your CSV file\n",
    "from google.colab import files\n",
    "uploaded = files.upload()"
   ]
  },
  {
   "cell_type": "code",
   "execution_count": null,
   "metadata": {},
   "outputs": [],
   "source": [
    "# Load dataset\n",
    "df = pd.read_csv('activity_co2_emission_data.csv')\n",
    "print('Dataset shape:', df.shape)\n",
    "print('\\nFirst few rows:')\n",
    "df.head()"
   ]
  },
  {
   "cell_type": "code",
   "execution_count": null,
   "metadata": {},
   "outputs": [],
   "source": [
    "# Data preprocessing\n",
    "df_processed = df.copy()\n",
    "\n",
    "# Encode categorical features\n",
    "label_encoder_activity = LabelEncoder()\n",
    "label_encoder_category = LabelEncoder()\n",
    "\n",
    "df_processed['Activity_Encoded'] = label_encoder_activity.fit_transform(df_processed['Activity'])\n",
    "df_processed['Category_Encoded'] = label_encoder_category.fit_transform(df_processed['Category'])\n",
    "\n",
    "print('\\nEncoded data:')\n",
    "print(df_processed.head())"
   ]
  },
  {
   "cell_type": "markdown",
   "metadata": {},
   "source": [
    "## Step 2: Train Random Forest Model"
   ]
  },
  {
   "cell_type": "code",
   "execution_count": null,
   "metadata": {},
   "outputs": [],
   "source": [
    "# Prepare features and target\n",
    "X = df_processed[['Activity_Encoded', 'Category_Encoded']]\n",
    "y = df_processed['AVG CO2 emission']\n",
    "\n",
    "# Split data\n",
    "X_train, X_test, y_train, y_test = train_test_split(X, y, test_size=0.2, random_state=42)\n",
    "\n",
    "# Train model\n",
    "model = RandomForestRegressor(n_estimators=100, random_state=42, max_depth=10)\n",
    "model.fit(X_train, y_train)\n",
    "\n",
    "# Evaluate\n",
    "y_pred = model.predict(X_test)\n",
    "mse = mean_squared_error(y_test, y_pred)\n",
    "r2 = r2_score(y_test, y_pred)\n",
    "\n",
    "print(f'Model Performance:')\n",
    "print(f'MSE: {mse:.4f}')\n",
    "print(f'R2 Score: {r2:.4f}')"
   ]
  },
  {
   "cell_type": "markdown",
   "metadata": {},
   "source": [
    "## Step 3: Create Sustainability Tips Database"
   ]
  },
  {
   "cell_type": "code",
   "execution_count": null,
   "metadata": {},
   "outputs": [],
   "source": [
    "# Comprehensive sustainability tips\n",
    "sustainability_tips = [\n",
    "    {'category': 'Transport', 'activity': 'Car', 'emission_level': 'High', 'tip': 'Switch to public transportation like buses or trains to reduce your carbon footprint by up to 75%. Carpooling with colleagues can also significantly reduce emissions per person.', 'impact': 'Can save 4.6 kg CO2 per 20km by switching to bus'},\n",
    "    {'category': 'Transport', 'activity': 'Car', 'emission_level': 'High', 'tip': 'Consider switching to an electric vehicle (EV) or hybrid car. EVs produce zero direct emissions and are becoming more affordable with government incentives.', 'impact': 'Reduce emissions by 60-70% compared to petrol cars'},\n",
    "    {'category': 'Transport', 'activity': 'Car', 'emission_level': 'High', 'tip': 'Maintain optimal tire pressure and regular vehicle servicing. This improves fuel efficiency by 10-15% and reduces unnecessary emissions.', 'impact': 'Save 0.5-0.7 kg CO2 per 20km journey'},\n",
    "    {'category': 'Transport', 'activity': 'Bus', 'emission_level': 'Medium', 'tip': 'You are already making an eco-friendly choice! Consider cycling or walking for shorter distances (under 5km) to further reduce emissions and improve health.', 'impact': 'Zero emissions for short trips'},\n",
    "    {'category': 'Transport', 'activity': 'Bus', 'emission_level': 'Medium', 'tip': 'Optimize your route planning to minimize total travel distance. Combining multiple errands in one trip reduces overall emissions.', 'impact': 'Save 20-30% emissions through efficient planning'},\n",
    "    {'category': 'Transport', 'activity': 'Bicycle', 'emission_level': 'Zero', 'tip': 'Excellent choice! Cycling produces zero emissions. Continue this habit and inspire others to cycle. Ensure regular bicycle maintenance for safety and efficiency.', 'impact': 'Zero emissions, saves 4.6 kg CO2 per 20km vs car'},\n",
    "    {'category': 'Transport', 'activity': 'Bicycle', 'emission_level': 'Zero', 'tip': 'Join local cycling communities to promote cycling infrastructure in your area. Advocate for more bike lanes and secure parking facilities.', 'impact': 'Community-wide emission reduction potential'},\n",
    "    {'category': 'Household', 'activity': 'AC usage', 'emission_level': 'High', 'tip': 'Set your AC temperature to 24-26\u00b0C instead of lower temperatures. Each degree higher can save 3-5% energy and reduce emissions significantly.', 'impact': 'Save 0.3-0.5 kg CO2 per day'},\n",
    "    {'category': 'Household', 'activity': 'AC usage', 'emission_level': 'High', 'tip': 'Use ceiling fans in combination with AC. This allows you to set AC at higher temperatures while maintaining comfort, reducing energy consumption by 30-40%.', 'impact': 'Save 1.8-2.4 kg CO2 per day'},\n",
    "    {'category': 'Household', 'activity': 'AC usage', 'emission_level': 'High', 'tip': 'Install solar panels to power your AC with renewable energy. Government subsidies can reduce installation costs by 30-40%.', 'impact': 'Reduce emissions by up to 90% for AC usage'},\n",
    "    {'category': 'Household', 'activity': 'AC usage', 'emission_level': 'High', 'tip': 'Ensure proper insulation and seal air leaks in your home. This reduces cooling load and can cut AC energy consumption by 25-30%.', 'impact': 'Save 1.5-1.8 kg CO2 per day'},\n",
    "    {'category': 'Household', 'activity': 'AC usage', 'emission_level': 'High', 'tip': 'Clean AC filters monthly. Dirty filters reduce efficiency by 15% and increase energy consumption significantly.', 'impact': 'Save 0.9 kg CO2 per day'},\n",
    "    {'category': 'General', 'activity': 'All', 'emission_level': 'All', 'tip': 'Track your carbon footprint regularly using apps or journals. Awareness is the first step towards sustainable living.', 'impact': 'Behavioral change can reduce emissions by 20-30%'},\n",
    "    {'category': 'General', 'activity': 'All', 'emission_level': 'All', 'tip': 'Participate in local environmental initiatives and tree plantation drives. Trees absorb CO2 and improve air quality.', 'impact': 'One tree absorbs 22 kg CO2 per year'},\n",
    "    {'category': 'General', 'activity': 'All', 'emission_level': 'All', 'tip': 'Choose renewable energy providers for your home electricity. Many regions now offer green energy options at competitive prices.', 'impact': 'Reduce household emissions by 50-70%'},\n",
    "    {'category': 'Transport', 'activity': 'All', 'emission_level': 'All', 'tip': 'Consider work-from-home options 2-3 days per week if possible. This eliminates commute emissions and improves work-life balance.', 'impact': 'Save 40-60% of weekly commute emissions'},\n",
    "    {'category': 'Household', 'activity': 'Energy', 'emission_level': 'Medium', 'tip': 'Switch to LED bulbs throughout your home. LEDs use 75% less energy and last 25 times longer than traditional bulbs.', 'impact': 'Save 50-80 kg CO2 per year per household'},\n",
    "    {'category': 'Household', 'activity': 'Energy', 'emission_level': 'Medium', 'tip': 'Unplug electronic devices when not in use. Phantom power consumption accounts for 5-10% of residential energy use.', 'impact': 'Save 100-200 kg CO2 per year'}\n",
    "]\n",
    "\n",
    "with open('sustainability_tips.json', 'w') as f:\n",
    "    json.dump(sustainability_tips, f, indent=2)\n",
    "\n",
    "print(f'Created {len(sustainability_tips)} sustainability tips')"
   ]
  },
  {
   "cell_type": "markdown",
   "metadata": {},
   "source": [
    "## Step 4: Build Vector Store with ChromaDB"
   ]
  },
  {
   "cell_type": "code",
   "execution_count": null,
   "metadata": {},
   "outputs": [],
   "source": [
    "from sentence_transformers import SentenceTransformer\n",
    "import chromadb\n",
    "from chromadb.config import Settings"
   ]
  },
  {
   "cell_type": "code",
   "execution_count": null,
   "metadata": {},
   "outputs": [],
   "source": [
    "embedding_model = SentenceTransformer('all-MiniLM-L6-v2')\n",
    "print('Embedding model loaded successfully')"
   ]
  },
  {
   "cell_type": "code",
   "execution_count": null,
   "metadata": {},
   "outputs": [],
   "source": [
    "chroma_client = chromadb.Client(Settings(anonymized_telemetry=False, allow_reset=True))\n",
    "collection = chroma_client.create_collection(name='sustainability_tips', metadata={'description': 'Sustainability tips for CO2 reduction'})\n",
    "print('ChromaDB collection created')"
   ]
  },
  {
   "cell_type": "code",
   "execution_count": null,
   "metadata": {},
   "outputs": [],
   "source": [
    "for idx, tip_data in enumerate(sustainability_tips):\n",
    "    text_to_embed = f\"{tip_data['category']} {tip_data['activity']} {tip_data['emission_level']}: {tip_data['tip']}\"\n",
    "    embedding = embedding_model.encode(text_to_embed).tolist()\n",
    "    collection.add(embeddings=[embedding], documents=[tip_data['tip']], metadatas=[{'category': tip_data['category'], 'activity': tip_data['activity'], 'emission_level': tip_data['emission_level'], 'impact': tip_data['impact']}], ids=[f'tip_{idx}'])\n",
    "\n",
    "print(f'Added {len(sustainability_tips)} tips to vector store')"
   ]
  },
  {
   "cell_type": "markdown",
   "metadata": {},
   "source": [
    "## Step 5: Save All Models and Encoders"
   ]
  },
  {
   "cell_type": "code",
   "execution_count": null,
   "metadata": {},
   "outputs": [],
   "source": [
    "joblib.dump(model, 'co2_prediction_model.pkl')\n",
    "joblib.dump(label_encoder_activity, 'label_encoder_activity.pkl')\n",
    "joblib.dump(label_encoder_category, 'label_encoder_category.pkl')\n",
    "\n",
    "activity_category_mapping = df[['Activity', 'Category']].drop_duplicates().to_dict('records')\n",
    "with open('activity_category_mapping.json', 'w') as f:\n",
    "    json.dump(activity_category_mapping, f, indent=2)\n",
    "\n",
    "print('All models saved successfully!')"
   ]
  },
  {
   "cell_type": "markdown",
   "metadata": {},
   "source": [
    "## Step 6: Test the Model"
   ]
  },
  {
   "cell_type": "code",
   "execution_count": null,
   "metadata": {},
   "outputs": [],
   "source": [
    "test_activity = 'Car(20km)'\n",
    "test_category = 'Transport'\n",
    "\n",
    "activity_encoded = label_encoder_activity.transform([test_activity])[0]\n",
    "category_encoded = label_encoder_category.transform([test_category])[0]\n",
    "prediction = model.predict([[activity_encoded, category_encoded]])[0]\n",
    "\n",
    "print(f'Activity: {test_activity}')\n",
    "print(f'Category: {test_category}')\n",
    "print(f'Predicted CO2 Emission: {prediction:.2f} kg')"
   ]
  },
  {
   "cell_type": "markdown",
   "metadata": {},
   "source": [
    "## Step 7: Download All Files"
   ]
  },
  {
   "cell_type": "code",
   "execution_count": null,
   "metadata": {},
   "outputs": [],
   "source": [
    "files.download('co2_prediction_model.pkl')\n",
    "files.download('label_encoder_activity.pkl')\n",
    "files.download('label_encoder_category.pkl')\n",
    "files.download('sustainability_tips.json')\n",
    "files.download('activity_category_mapping.json')\n",
    "\n",
    "print('All files ready for download!')"
   ]
  }
 ],
 "metadata": {
  "kernelspec": {
   "display_name": "Python 3",
   "language": "python",
   "name": "python3"
  },
  "language_info": {
   "codemirror_mode": {
    "name": "ipython",
    "version": 3
   },
   "file_extension": ".py",
   "mimetype": "text/x-python",
   "name": "python",
   "nbconvert_exporter": "python",
   "pygments_lexer": "ipython3",
   "version": "3.10.0"
  }
 },
 "nbformat": 4,
 "nbformat_minor": 4
}